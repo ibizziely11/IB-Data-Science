{
  "nbformat": 4,
  "nbformat_minor": 0,
  "metadata": {
    "colab": {
      "provenance": []
    },
    "kernelspec": {
      "name": "python3",
      "display_name": "Python 3"
    },
    "language_info": {
      "name": "python"
    }
  },
  "cells": [
    {
      "cell_type": "markdown",
      "source": [
        "---\n",
        "\n",
        "#Peer Graded Assessment - Isabelle Bruce"
      ],
      "metadata": {
        "id": "ZLS1xdwskCTZ"
      }
    },
    {
      "cell_type": "markdown",
      "source": [
        "---\n",
        "\n",
        "##Introduction: In this project I will be going over the things covered in the \"Tools of Data Science.\"\n",
        "\n",
        "---"
      ],
      "metadata": {
        "id": "g1sUrzplkDiL"
      }
    },
    {
      "cell_type": "markdown",
      "source": [
        "###Languages of Data Science:\n",
        "\n",
        "- Python\n",
        "- SQL\n",
        "- R\n",
        "\n",
        "Other languages mentioned: Java, C++, Scala, and Julia\n",
        "\n",
        "---"
      ],
      "metadata": {
        "id": "M91ucV2BkKQO"
      }
    },
    {
      "cell_type": "markdown",
      "source": [
        "###Data Science Libraries\n",
        "\n",
        "- Pandas\n",
        "- NymPy\n",
        "- Matplotlib\n",
        "- Seaborn\n",
        "- Scikit-learn\n",
        "\n",
        "---"
      ],
      "metadata": {
        "id": "wRHqD0CjkNmN"
      }
    },
    {
      "cell_type": "markdown",
      "source": [
        "###Data Science Tools:\n",
        "\n",
        "- Jupyter Notebooks\n",
        "- JupyterLab\n",
        "- RStudio IDE\n",
        "- Git and GitHub\n",
        "- IBM Watson Studio\n",
        "\n",
        "---"
      ],
      "metadata": {
        "id": "179aQGrskSaI"
      }
    },
    {
      "cell_type": "markdown",
      "source": [
        "###Here the notebook with solve arithmetic expressions:"
      ],
      "metadata": {
        "id": "n7-dLB3jkVkH"
      }
    },
    {
      "cell_type": "code",
      "source": [
        "4+10"
      ],
      "metadata": {
        "colab": {
          "base_uri": "https://localhost:8080/"
        },
        "id": "XteB1GdqkYWQ",
        "outputId": "bcdf2fea-584f-4301-d039-1cab66dc4d2c"
      },
      "execution_count": 1,
      "outputs": [
        {
          "output_type": "execute_result",
          "data": {
            "text/plain": [
              "14"
            ]
          },
          "metadata": {},
          "execution_count": 1
        }
      ]
    },
    {
      "cell_type": "code",
      "source": [
        "6*7"
      ],
      "metadata": {
        "colab": {
          "base_uri": "https://localhost:8080/"
        },
        "id": "yEJJimqWkbiZ",
        "outputId": "351b0790-1e1c-4ffb-9997-6e5721083e7f"
      },
      "execution_count": 2,
      "outputs": [
        {
          "output_type": "execute_result",
          "data": {
            "text/plain": [
              "42"
            ]
          },
          "metadata": {},
          "execution_count": 2
        }
      ]
    },
    {
      "cell_type": "code",
      "source": [
        "(17+6)*8"
      ],
      "metadata": {
        "id": "uccuzmi8kjFi"
      },
      "execution_count": null,
      "outputs": []
    },
    {
      "cell_type": "code",
      "source": [
        "n=int(input(\"Type Minutes:\"))\n",
        "hr=n//60\n",
        "min=n%60\n",
        "print(\"Hours:\",hr,\"Mins:\",min)"
      ],
      "metadata": {
        "colab": {
          "base_uri": "https://localhost:8080/"
        },
        "id": "N_PPx3s1km_B",
        "outputId": "874eb337-ac23-4568-d1af-6278c42b08f9"
      },
      "execution_count": 3,
      "outputs": [
        {
          "output_type": "stream",
          "name": "stdout",
          "text": [
            "Type Minutes:204\n",
            "Hours: 3 Mins: 24\n"
          ]
        }
      ]
    },
    {
      "cell_type": "markdown",
      "source": [
        "---\n",
        "\n",
        "###**Objectives:**\n",
        "\n",
        "####Git Repositories:\n",
        "\n",
        "- GitHub\n",
        "- GitLab\n",
        "- BitBucket\n",
        "\n",
        "---"
      ],
      "metadata": {
        "id": "4q8C-B39kyoR"
      }
    },
    {
      "cell_type": "markdown",
      "source": [
        "#Author:\n",
        "\n",
        "Isabelle Praise Bruce\n",
        "\n",
        "---"
      ],
      "metadata": {
        "id": "V9yKXXkxkzfU"
      }
    },
    {
      "cell_type": "markdown",
      "source": [],
      "metadata": {
        "id": "8dyvP2mfkHL1"
      }
    }
  ]
}